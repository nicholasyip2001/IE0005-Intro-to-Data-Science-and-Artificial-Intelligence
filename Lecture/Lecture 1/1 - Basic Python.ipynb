{
 "cells": [
  {
   "cell_type": "markdown",
   "metadata": {},
   "source": [
    "# IE0005 Lecture 1"
   ]
  },
  {
   "cell_type": "markdown",
   "metadata": {},
   "source": [
    "### Variables"
   ]
  },
  {
   "cell_type": "code",
   "execution_count": 1,
   "metadata": {},
   "outputs": [],
   "source": [
    "a = 3\n",
    "b = \"John\"\n",
    "c = [3, 4]\n",
    "d = False"
   ]
  },
  {
   "cell_type": "code",
   "execution_count": 2,
   "metadata": {},
   "outputs": [
    {
     "name": "stdout",
     "output_type": "stream",
     "text": [
      "a is 3\n",
      "b is John, and c is [3, 4], finally d is False\n"
     ]
    }
   ],
   "source": [
    "print(\"a is\", a)\n",
    "print(\"b is \", b, \", and c is \", c, \", finally d is \", d, sep=\"\")"
   ]
  },
  {
   "cell_type": "code",
   "execution_count": 3,
   "metadata": {},
   "outputs": [
    {
     "name": "stdout",
     "output_type": "stream",
     "text": [
      "e is [3, 'John', [3, 4]]\n"
     ]
    }
   ],
   "source": [
    "e = [a, b, c]\n",
    "print(\"e is\", e)"
   ]
  },
  {
   "cell_type": "code",
   "execution_count": 4,
   "metadata": {},
   "outputs": [
    {
     "data": {
      "text/plain": [
       "3"
      ]
     },
     "execution_count": 4,
     "metadata": {},
     "output_type": "execute_result"
    }
   ],
   "source": [
    "e[0]"
   ]
  },
  {
   "cell_type": "code",
   "execution_count": 5,
   "metadata": {},
   "outputs": [
    {
     "data": {
      "text/plain": [
       "int"
      ]
     },
     "execution_count": 5,
     "metadata": {},
     "output_type": "execute_result"
    }
   ],
   "source": [
    "type(a)"
   ]
  },
  {
   "cell_type": "code",
   "execution_count": 6,
   "metadata": {},
   "outputs": [
    {
     "name": "stdout",
     "output_type": "stream",
     "text": [
      "Thomas\n"
     ]
    },
    {
     "data": {
      "text/plain": [
       "str"
      ]
     },
     "execution_count": 6,
     "metadata": {},
     "output_type": "execute_result"
    }
   ],
   "source": [
    "a = \"Thomas\"\n",
    "print(a)\n",
    "type(a)"
   ]
  },
  {
   "cell_type": "code",
   "execution_count": 7,
   "metadata": {},
   "outputs": [
    {
     "data": {
      "text/plain": [
       "'Civic'"
      ]
     },
     "execution_count": 7,
     "metadata": {},
     "output_type": "execute_result"
    }
   ],
   "source": [
    "# dictionary\n",
    "car = {'brand':\"Honda\", 'model':\"Civic\", 'price':100000}\n",
    "car['model']"
   ]
  },
  {
   "cell_type": "code",
   "execution_count": 8,
   "metadata": {},
   "outputs": [
    {
     "data": {
      "text/plain": [
       "['North Spine', 'Koufu', 'Canteen 9', 'North Hill', 'Canteen 11']"
      ]
     },
     "execution_count": 8,
     "metadata": {},
     "output_type": "execute_result"
    }
   ],
   "source": [
    "canteens_dict = {'Name' : [\"North Spine\", \"Koufu\", \"Canteen 9\", \"North Hill\", \"Canteen 11\"],\n",
    "                 'Stalls' : [20, 15, 10, 12, 8],\n",
    "                 'Rating' : [4.5, 4.2, 4.0, 3.7, 4.2]\n",
    "                }\n",
    "canteennames = canteens_dict[\"Name\"]\n",
    "canteennames"
   ]
  },
  {
   "cell_type": "code",
   "execution_count": 9,
   "metadata": {},
   "outputs": [
    {
     "name": "stdout",
     "output_type": "stream",
     "text": [
      "{'Name': ['North Spine', 'Koufu', 'Canteen 9', 'North Hill', 'Canteen 11'], 'Stalls': [20, 15, 10, 12, 8], 'Rating': [4.5, 4.2, 4.0, 3.7, 4.2]}\n"
     ]
    }
   ],
   "source": [
    "print(canteens_dict)"
   ]
  },
  {
   "cell_type": "code",
   "execution_count": 10,
   "metadata": {},
   "outputs": [
    {
     "data": {
      "text/html": [
       "<div>\n",
       "<style scoped>\n",
       "    .dataframe tbody tr th:only-of-type {\n",
       "        vertical-align: middle;\n",
       "    }\n",
       "\n",
       "    .dataframe tbody tr th {\n",
       "        vertical-align: top;\n",
       "    }\n",
       "\n",
       "    .dataframe thead th {\n",
       "        text-align: right;\n",
       "    }\n",
       "</style>\n",
       "<table border=\"1\" class=\"dataframe\">\n",
       "  <thead>\n",
       "    <tr style=\"text-align: right;\">\n",
       "      <th></th>\n",
       "      <th>Name</th>\n",
       "      <th>Stalls</th>\n",
       "      <th>Rating</th>\n",
       "    </tr>\n",
       "  </thead>\n",
       "  <tbody>\n",
       "    <tr>\n",
       "      <th>0</th>\n",
       "      <td>North Spine</td>\n",
       "      <td>20</td>\n",
       "      <td>4.5</td>\n",
       "    </tr>\n",
       "    <tr>\n",
       "      <th>1</th>\n",
       "      <td>Koufu</td>\n",
       "      <td>15</td>\n",
       "      <td>4.2</td>\n",
       "    </tr>\n",
       "    <tr>\n",
       "      <th>2</th>\n",
       "      <td>Canteen 9</td>\n",
       "      <td>10</td>\n",
       "      <td>4.0</td>\n",
       "    </tr>\n",
       "    <tr>\n",
       "      <th>3</th>\n",
       "      <td>North Hill</td>\n",
       "      <td>12</td>\n",
       "      <td>3.7</td>\n",
       "    </tr>\n",
       "    <tr>\n",
       "      <th>4</th>\n",
       "      <td>Canteen 11</td>\n",
       "      <td>8</td>\n",
       "      <td>4.2</td>\n",
       "    </tr>\n",
       "  </tbody>\n",
       "</table>\n",
       "</div>"
      ],
      "text/plain": [
       "          Name  Stalls  Rating\n",
       "0  North Spine      20     4.5\n",
       "1        Koufu      15     4.2\n",
       "2    Canteen 9      10     4.0\n",
       "3   North Hill      12     3.7\n",
       "4   Canteen 11       8     4.2"
      ]
     },
     "execution_count": 10,
     "metadata": {},
     "output_type": "execute_result"
    }
   ],
   "source": [
    "import pandas as pd\n",
    "\n",
    "canteens_df = pd.DataFrame(canteens_dict)\n",
    "canteens_df"
   ]
  },
  {
   "cell_type": "markdown",
   "metadata": {},
   "source": [
    "### Control"
   ]
  },
  {
   "cell_type": "code",
   "execution_count": 11,
   "metadata": {},
   "outputs": [
    {
     "name": "stdout",
     "output_type": "stream",
     "text": [
      "Canteen 9 found\n",
      "something\n"
     ]
    }
   ],
   "source": [
    "mycanteen = \"Canteen 9\"\n",
    "if mycanteen in canteennames:\n",
    "  print(mycanteen, \"found\")\n",
    "  print(\"something\")\n",
    "else:\n",
    "  print(mycanteen, \"not found\")\n"
   ]
  },
  {
   "cell_type": "code",
   "execution_count": 12,
   "metadata": {},
   "outputs": [
    {
     "name": "stdout",
     "output_type": "stream",
     "text": [
      "North Spine\n",
      "Koufu\n",
      "Canteen 9\n",
      "North Hill\n",
      "Canteen 11\n"
     ]
    }
   ],
   "source": [
    "for name in canteennames:\n",
    "  print(name)"
   ]
  },
  {
   "cell_type": "markdown",
   "metadata": {},
   "source": [
    "### Functions"
   ]
  },
  {
   "cell_type": "markdown",
   "metadata": {},
   "source": [
    "#### https://docs.python.org/\n",
    "##### https://docs.python.org/3/library/functions.html#print\n",
    "print(*objects, sep=\" \", end=\"\\n\", file=sys.stdout, flush=False)"
   ]
  },
  {
   "cell_type": "code",
   "execution_count": 13,
   "metadata": {},
   "outputs": [],
   "source": [
    "def myfunction(arg1, arg2):\n",
    "  x = arg1 + \" \" + arg2\n",
    "  return x"
   ]
  },
  {
   "cell_type": "code",
   "execution_count": 14,
   "metadata": {},
   "outputs": [
    {
     "data": {
      "text/plain": [
       "'bright morning'"
      ]
     },
     "execution_count": 14,
     "metadata": {},
     "output_type": "execute_result"
    }
   ],
   "source": [
    "myfunction(\"bright\", \"morning\")"
   ]
  },
  {
   "cell_type": "code",
   "execution_count": 15,
   "metadata": {},
   "outputs": [
    {
     "data": {
      "text/plain": [
       "'good morning'"
      ]
     },
     "execution_count": 15,
     "metadata": {},
     "output_type": "execute_result"
    }
   ],
   "source": [
    "myfunction(arg2=\"morning\", arg1=\"good\")"
   ]
  },
  {
   "cell_type": "code",
   "execution_count": 16,
   "metadata": {},
   "outputs": [],
   "source": [
    "def myfunction(arg1=\"hello\", arg2=\"world\"):\n",
    "  print(arg1, arg2)\n",
    "  x = arg1 + \" \" + arg2\n",
    "  return x"
   ]
  },
  {
   "cell_type": "code",
   "execution_count": 17,
   "metadata": {},
   "outputs": [
    {
     "name": "stdout",
     "output_type": "stream",
     "text": [
      "day world\n"
     ]
    },
    {
     "data": {
      "text/plain": [
       "'day world'"
      ]
     },
     "execution_count": 17,
     "metadata": {},
     "output_type": "execute_result"
    }
   ],
   "source": [
    "myfunction(arg1=\"day\")"
   ]
  },
  {
   "cell_type": "code",
   "execution_count": 18,
   "metadata": {},
   "outputs": [
    {
     "name": "stdout",
     "output_type": "stream",
     "text": [
      "Amy Cherry Susan Cheryl \n",
      "Amy Cherry Susan \n"
     ]
    }
   ],
   "source": [
    "def myfunction(*elements):\n",
    "  out = \"\"\n",
    "  for x in elements:\n",
    "    out += x + \" \"\n",
    "  print(out)\n",
    "\n",
    "myfunction(\"Amy\", \"Cherry\", \"Susan\", \"Cheryl\")\n",
    "myfunction(\"Amy\", \"Cherry\", \"Susan\")"
   ]
  },
  {
   "cell_type": "markdown",
   "metadata": {},
   "source": [
    "E.g.: print(*objects, sep=\" \", end=\"\\n\", file=sys.stdout, flush=False)"
   ]
  },
  {
   "cell_type": "code",
   "execution_count": 19,
   "metadata": {},
   "outputs": [
    {
     "name": "stdout",
     "output_type": "stream",
     "text": [
      "Amy, Cherry, Susan, and Cheryl are attending this meeting.\n"
     ]
    }
   ],
   "source": [
    "def myfunction(*elements, event=\"meeting\"):\n",
    "  out = \"\"\n",
    "  for x in elements[:-1]:\n",
    "    out += x + \", \"\n",
    "  out += \"and \" + elements[-1]\n",
    "\n",
    "  print(out, \"are attending this\", event+\".\")\n",
    "\n",
    "myfunction(\"Amy\", \"Cherry\", \"Susan\", \"Cheryl\")"
   ]
  },
  {
   "cell_type": "code",
   "execution_count": 20,
   "metadata": {},
   "outputs": [
    {
     "name": "stdout",
     "output_type": "stream",
     "text": [
      "Amy, Cherry, and Susan are attending this party.\n"
     ]
    }
   ],
   "source": [
    "myfunction(\"Amy\", \"Cherry\", \"Susan\", event=\"party\")"
   ]
  },
  {
   "cell_type": "code",
   "execution_count": 21,
   "metadata": {},
   "outputs": [
    {
     "name": "stdout",
     "output_type": "stream",
     "text": [
      "50 Nanyang Ave\n"
     ]
    }
   ],
   "source": [
    "def myfunction(**elements):\n",
    "  print(elements[\"address\"])\n",
    "\n",
    "myfunction(name=\"Amy\", address=\"50 Nanyang Ave\", title=\"Professor\")"
   ]
  },
  {
   "cell_type": "markdown",
   "metadata": {},
   "source": [
    "If the form \"\\*identifier\" is present, it is initialized to a tuple receiving any excess positional parameters, defaulting to the empty tuple. \n",
    "\n",
    "If the form “\\*\\*identifier” is present, it is initialized to a new ordered mapping receiving any excess keyword arguments, defaulting to a new empty mapping of the same type. \n",
    "\n",
    "Parameters after “\\*” or “\\*identifier” are keyword-only parameters and may only be passed by keyword arguments.\n",
    "\n",
    "myfunction(positional args, *args, **kwargs)\n"
   ]
  }
 ],
 "metadata": {
  "kernelspec": {
   "display_name": "Python 3.9.13 ('base')",
   "language": "python",
   "name": "python3"
  },
  "language_info": {
   "codemirror_mode": {
    "name": "ipython",
    "version": 3
   },
   "file_extension": ".py",
   "mimetype": "text/x-python",
   "name": "python",
   "nbconvert_exporter": "python",
   "pygments_lexer": "ipython3",
   "version": "3.11.4"
  },
  "orig_nbformat": 4,
  "vscode": {
   "interpreter": {
    "hash": "317798ab893ab681e56a8efa17404c9d19e5da8b0ce2b4aa039364363930a3cd"
   }
  }
 },
 "nbformat": 4,
 "nbformat_minor": 2
}
